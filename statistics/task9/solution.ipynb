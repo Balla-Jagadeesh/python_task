{
 "cells": [
  {
   "cell_type": "code",
   "execution_count": 1,
   "metadata": {},
   "outputs": [
    {
     "name": "stdout",
     "output_type": "stream",
     "text": [
      "The mean scores of all the students are the same.\n",
      "F-statistic: 0.004317323259579061\n",
      "p-value: 0.9492239442504182\n"
     ]
    }
   ],
   "source": [
    "import scipy.stats as stats\n",
    "import pandas as pd\n",
    "\n",
    "# Create a DataFrame with the student scores\n",
    "df = pd.DataFrame({\n",
    "    'Name': ['Karan', 'Deepa', 'Karthik', 'Chandan', 'Jeevan'],\n",
    "    'Exam_1': [85, 70, 90, 75, 95],\n",
    "    'Exam_2':[90, 80, 85, 70, 92],\n",
    "    'Final_Exam':[92, 85, 88, 75, 96]\n",
    "    \n",
    "})\n",
    "\n",
    "# Perform one-way ANOVA test\n",
    "f_statistic, p_value = stats.f_oneway(df['Exam_1'],df['Exam_2'])\n",
    "\n",
    "# Check the significance of the p-value\n",
    "alpha = 0.05  # Significance level\n",
    "if p_value < alpha:\n",
    "    print(\"The mean scores of all the students are not the same.\")\n",
    "    # Find the student with the highest score\n",
    "    student_highest_score = df.loc(df['Exam_1'],df['Exam_2']).idxmax(), ['Name']\n",
    "    print(\"The student with the highest score is:\", student_highest_score)\n",
    "else:\n",
    "    print(\"The mean scores of all the students are the same.\")\n",
    "\n",
    "# Print the ANOVA test results\n",
    "print(\"F-statistic:\", f_statistic)\n",
    "print(\"p-value:\", p_value)\n"
   ]
  },
  {
   "cell_type": "markdown",
   "metadata": {},
   "source": [
    "Replace score1, score2, score3, ... with the actual scores of each student in their respective exams. The code performs a one-way ANOVA test using stats.f_oneway() from the scipy.stats module. The resulting test statistic and p-value are printed. Finally, the significance of the p-value is checked against the chosen significance level (alpha) to determine if there are significant differences in mean scores among the exams.\n",
    "\n",
    "If the null hypothesis is rejected (i.e., there are significant differences among the exams), you can further analyze the scores to find the student with the highest score by comparing the scores within each exam or across all exams."
   ]
  },
  {
   "cell_type": "markdown",
   "metadata": {},
   "source": []
  }
 ],
 "metadata": {
  "kernelspec": {
   "display_name": "Python 3",
   "language": "python",
   "name": "python3"
  },
  "language_info": {
   "codemirror_mode": {
    "name": "ipython",
    "version": 3
   },
   "file_extension": ".py",
   "mimetype": "text/x-python",
   "name": "python",
   "nbconvert_exporter": "python",
   "pygments_lexer": "ipython3",
   "version": "3.9.0"
  },
  "orig_nbformat": 4
 },
 "nbformat": 4,
 "nbformat_minor": 2
}
