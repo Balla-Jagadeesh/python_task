{
 "cells": [
  {
   "cell_type": "markdown",
   "metadata": {},
   "source": [
    "### Q-12. A pharmaceutical company develops a new drug and wants to compare its effectiveness against a standard drug for treating a particular condition. They conduct a study with two groups: Group A receives the new drug, and Group B receives the standard drug. The company measures the improvement in a specific symptom for both groups after a 4-week treatment period.\n",
    "#### a. The company collects data from 30 patients in each group and calculates the mean improvement score and the standard deviation of improvement for each group. The mean improvement score for Group A is 2.5 with a standard deviation of 0.8, while the mean improvement score for Group B is 2.2 with a standard deviation of 0.6. Conduct a t-test to determine if there is a significant difference in the mean improvement scores between the two groups. Use a significance level of 0.05.\n",
    "#### b. Based on the t-test results, state whether the null hypothesis should be rejected or not. Provide a conclusion in the context of the study.\n",
    "\n"
   ]
  },
  {
   "cell_type": "code",
   "execution_count": 1,
   "metadata": {},
   "outputs": [
    {
     "name": "stdout",
     "output_type": "stream",
     "text": [
      "T-statistic: 1.6431676725154976\n",
      "P-value: 0.10575916705583671\n",
      "The null hypothesis should not be rejected.\n",
      "There is no significant difference in the mean improvement scores between Group A and Group B.\n"
     ]
    }
   ],
   "source": [
    "import scipy.stats as stats\n",
    "\n",
    "# Given data for Group A\n",
    "mean_a = 2.5\n",
    "std_dev_a = 0.8\n",
    "sample_size_a = 30\n",
    "\n",
    "# Given data for Group B\n",
    "mean_b = 2.2\n",
    "std_dev_b = 0.6\n",
    "sample_size_b = 30\n",
    "\n",
    "# Conduct a two-sample independent t-test\n",
    "t_stat, p_value = stats.ttest_ind_from_stats(mean1=mean_a, std1=std_dev_a, nobs1=sample_size_a,\n",
    "                                            mean2=mean_b, std2=std_dev_b, nobs2=sample_size_b)\n",
    "\n",
    "print(\"T-statistic:\", t_stat)\n",
    "print(\"P-value:\", p_value)\n",
    "\n",
    "# Set the significance level (alpha)\n",
    "alpha = 0.05\n",
    "\n",
    "if p_value < alpha:\n",
    "    print(\"The null hypothesis should be rejected.\")\n",
    "    print(\"There is a significant difference in the mean improvement scores between Group A and Group B.\")\n",
    "else:\n",
    "    print(\"The null hypothesis should not be rejected.\")\n",
    "    print(\"There is no significant difference in the mean improvement scores between Group A and Group B.\")\n"
   ]
  }
 ],
 "metadata": {
  "kernelspec": {
   "display_name": "Python 3",
   "language": "python",
   "name": "python3"
  },
  "language_info": {
   "codemirror_mode": {
    "name": "ipython",
    "version": 3
   },
   "file_extension": ".py",
   "mimetype": "text/x-python",
   "name": "python",
   "nbconvert_exporter": "python",
   "pygments_lexer": "ipython3",
   "version": "3.9.0"
  },
  "orig_nbformat": 4
 },
 "nbformat": 4,
 "nbformat_minor": 2
}
