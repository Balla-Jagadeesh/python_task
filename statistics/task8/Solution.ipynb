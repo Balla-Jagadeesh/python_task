{
 "cells": [
  {
   "cell_type": "code",
   "execution_count": 1,
   "metadata": {},
   "outputs": [
    {
     "name": "stdout",
     "output_type": "stream",
     "text": [
      "   Participant  BeforTherapy  AfterTherapy  Difference\n",
      "0            1            10             7          -3\n",
      "1            2             8             6          -2\n",
      "2            3            12            10          -2\n",
      "3            4            15            12          -3\n",
      "4            5             6             5          -1\n",
      "5            6             9             8          -1\n",
      "6            7            11             9          -2\n",
      "7            8             7             6          -1\n",
      "8            9            14            12          -2\n",
      "9           10            10             8          -2\n"
     ]
    }
   ],
   "source": [
    "import pandas as pd\n",
    "import numpy as np\n",
    "\n",
    "# Create a dictionary of data\n",
    "data = {\n",
    "    'Participant':[1,2,3,4,5,6,7,8,9,10],\n",
    "    'BeforTherapy':[10,8,12,15,6,9,11,7,14,10],\n",
    "    'AfterTherapy':[7,6,10,12,5,8,9,6,12,8],\n",
    "    'Difference':[-3,-2,-2,-3,-1,-1,-2,-1,-2,-2]\n",
    "}\n",
    "\n",
    "# Create a DataFrame from the data dictionary\n",
    "dataset = pd.DataFrame(data)\n",
    "\n",
    "# Print the DataFrame\n",
    "print(dataset)\n",
    "\n",
    "# Define the data\n",
    "before=dataset[\"BeforTherapy\"]  # Replace [...] with the actual data of anxiety levels before therapy\n",
    "after=dataset[\"AfterTherapy\"]   # Replace [...] with the actual data of anxiety levels after therapy\n",
    "\n",
    "# Calculate the differences\n",
    "differences = after - before\n"
   ]
  }
 ],
 "metadata": {
  "kernelspec": {
   "display_name": "Python 3",
   "language": "python",
   "name": "python3"
  },
  "language_info": {
   "codemirror_mode": {
    "name": "ipython",
    "version": 3
   },
   "file_extension": ".py",
   "mimetype": "text/x-python",
   "name": "python",
   "nbconvert_exporter": "python",
   "pygments_lexer": "ipython3",
   "version": "3.9.0"
  },
  "orig_nbformat": 4
 },
 "nbformat": 4,
 "nbformat_minor": 2
}
