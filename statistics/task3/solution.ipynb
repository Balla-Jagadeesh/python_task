{
 "cells": [
  {
   "cell_type": "code",
   "execution_count": 1,
   "metadata": {},
   "outputs": [],
   "source": [
    "import pandas as pd\n",
    "import scipy.stats as stats\n",
    "import numpy as np"
   ]
  },
  {
   "cell_type": "code",
   "execution_count": 10,
   "metadata": {},
   "outputs": [],
   "source": [
    "df=pd.read_csv(\"../Blood_Pressure.csv\")"
   ]
  },
  {
   "cell_type": "code",
   "execution_count": 11,
   "metadata": {},
   "outputs": [
    {
     "data": {
      "text/html": [
       "<div>\n",
       "<style scoped>\n",
       "    .dataframe tbody tr th:only-of-type {\n",
       "        vertical-align: middle;\n",
       "    }\n",
       "\n",
       "    .dataframe tbody tr th {\n",
       "        vertical-align: top;\n",
       "    }\n",
       "\n",
       "    .dataframe thead th {\n",
       "        text-align: right;\n",
       "    }\n",
       "</style>\n",
       "<table border=\"1\" class=\"dataframe\">\n",
       "  <thead>\n",
       "    <tr style=\"text-align: right;\">\n",
       "      <th></th>\n",
       "      <th>Patient_ID</th>\n",
       "      <th>Before</th>\n",
       "      <th>After</th>\n",
       "    </tr>\n",
       "  </thead>\n",
       "  <tbody>\n",
       "    <tr>\n",
       "      <th>0</th>\n",
       "      <td>1</td>\n",
       "      <td>130</td>\n",
       "      <td>120</td>\n",
       "    </tr>\n",
       "    <tr>\n",
       "      <th>1</th>\n",
       "      <td>2</td>\n",
       "      <td>142</td>\n",
       "      <td>135</td>\n",
       "    </tr>\n",
       "    <tr>\n",
       "      <th>2</th>\n",
       "      <td>3</td>\n",
       "      <td>120</td>\n",
       "      <td>118</td>\n",
       "    </tr>\n",
       "    <tr>\n",
       "      <th>3</th>\n",
       "      <td>4</td>\n",
       "      <td>135</td>\n",
       "      <td>127</td>\n",
       "    </tr>\n",
       "    <tr>\n",
       "      <th>4</th>\n",
       "      <td>5</td>\n",
       "      <td>148</td>\n",
       "      <td>140</td>\n",
       "    </tr>\n",
       "  </tbody>\n",
       "</table>\n",
       "</div>"
      ],
      "text/plain": [
       "   Patient_ID  Before  After\n",
       "0           1     130    120\n",
       "1           2     142    135\n",
       "2           3     120    118\n",
       "3           4     135    127\n",
       "4           5     148    140"
      ]
     },
     "execution_count": 11,
     "metadata": {},
     "output_type": "execute_result"
    }
   ],
   "source": [
    "df.head()"
   ]
  },
  {
   "cell_type": "code",
   "execution_count": 8,
   "metadata": {},
   "outputs": [],
   "source": [
    "df.info()"
   ]
  },
  {
   "cell_type": "code",
   "execution_count": 9,
   "metadata": {},
   "outputs": [
    {
     "data": {
      "text/plain": [
       "'https://drive.google.com/file/d/1mCjtYHiX--mMUjicuaP2gH3k-SnFxt8Y/view?usp=share_'"
      ]
     },
     "execution_count": 9,
     "metadata": {},
     "output_type": "execute_result"
    }
   ],
   "source": [
    "df"
   ]
  },
  {
   "cell_type": "code",
   "execution_count": 12,
   "metadata": {},
   "outputs": [
    {
     "data": {
      "text/plain": [
       "Patient_ID    0\n",
       "Before        0\n",
       "After         0\n",
       "dtype: int64"
      ]
     },
     "execution_count": 12,
     "metadata": {},
     "output_type": "execute_result"
    }
   ],
   "source": [
    "df.isnull().sum()"
   ]
  },
  {
   "cell_type": "code",
   "execution_count": 13,
   "metadata": {},
   "outputs": [],
   "source": [
    "x=df[\"Before\"]"
   ]
  },
  {
   "cell_type": "code",
   "execution_count": 14,
   "metadata": {},
   "outputs": [],
   "source": [
    "y=df[\"After\"]"
   ]
  },
  {
   "cell_type": "markdown",
   "metadata": {},
   "source": [
    "## Measure the dispersion in both and interpret the results"
   ]
  },
  {
   "cell_type": "code",
   "execution_count": 24,
   "metadata": {},
   "outputs": [
    {
     "data": {
      "text/plain": [
       "6.853495458523336"
      ]
     },
     "execution_count": 24,
     "metadata": {},
     "output_type": "execute_result"
    }
   ],
   "source": [
    "\n",
    "dispersion_before = np.std(df['Before'])  # Standard deviation of 'Before'\n",
    "dispersion_after = np.std(df['After'])  # Standard deviation of 'After'\n",
    "dispersion_before\n"
   ]
  },
  {
   "cell_type": "code",
   "execution_count": 25,
   "metadata": {},
   "outputs": [
    {
     "data": {
      "text/plain": [
       "6.56520372875054"
      ]
     },
     "execution_count": 25,
     "metadata": {},
     "output_type": "execute_result"
    }
   ],
   "source": [
    "dispersion_before"
   ]
  },
  {
   "cell_type": "code",
   "execution_count": 23,
   "metadata": {},
   "outputs": [
    {
     "name": "stdout",
     "output_type": "stream",
     "text": [
      "Dispersion of 'Before': 6.57\n",
      "Dispersion of 'After': 6.85\n"
     ]
    }
   ],
   "source": [
    "# Interpretation\n",
    "print(f\"Dispersion of 'Before': {dispersion_before:.2f}\")\n",
    "print(f\"Dispersion of 'After': {dispersion_after:.2f}\")"
   ]
  },
  {
   "cell_type": "markdown",
   "metadata": {},
   "source": [
    "### Calculate mean and 5% confidence interval and plot it in a graph"
   ]
  },
  {
   "cell_type": "markdown",
   "metadata": {},
   "source": []
  },
  {
   "cell_type": "code",
   "execution_count": 26,
   "metadata": {},
   "outputs": [],
   "source": [
    "mean_before = np.mean(df['Before'])  # Mean of 'Before'\n",
    "mean_after = np.mean(df['After'])  # Mean of 'After'\n"
   ]
  },
  {
   "cell_type": "code",
   "execution_count": 27,
   "metadata": {},
   "outputs": [],
   "source": [
    "confidence_interval_before = stats.t.interval(0.95, len(df['Before'])-1, loc=mean_before, scale=stats.sem(df['Before']))\n",
    "confidence_interval_after = stats.t.interval(0.95, len(df['After'])-1, loc=mean_after, scale=stats.sem(df['After']))\n"
   ]
  },
  {
   "cell_type": "code",
   "execution_count": 28,
   "metadata": {},
   "outputs": [
    {
     "data": {
      "text/plain": [
       "(132.60075849172767, 135.21924150827232)"
      ]
     },
     "execution_count": 28,
     "metadata": {},
     "output_type": "execute_result"
    }
   ],
   "source": [
    "confidence_interval_before"
   ]
  },
  {
   "cell_type": "code",
   "execution_count": 29,
   "metadata": {},
   "outputs": [
    {
     "data": {
      "text/plain": [
       "(126.99326697818071, 129.7267330218193)"
      ]
     },
     "execution_count": 29,
     "metadata": {},
     "output_type": "execute_result"
    }
   ],
   "source": [
    "confidence_interval_after"
   ]
  },
  {
   "cell_type": "code",
   "execution_count": 32,
   "metadata": {},
   "outputs": [
    {
     "data": {
      "image/png": "[encoded data removed]",
      "text/plain": [
       "<Figure size 640x480 with 1 Axes>"
      ]
     },
     "metadata": {},
     "output_type": "display_data"
    }
   ],
   "source": [
    "import  matplotlib.pyplot as plt\n",
    "plt.errorbar(0, mean_before, yerr=(confidence_interval_before[1]-mean_before), fmt='o', capsize=5, label='Before')\n",
    "plt.errorbar(1, mean_after, yerr=(confidence_interval_after[1]-mean_after), fmt='o', capsize=5, label='After')\n",
    "plt.xticks([0, 1], ['Before', 'After'])\n",
    "plt.ylabel('Mean')\n",
    "plt.title('Mean with 95% Confidence Interval')\n",
    "plt.legend()\n",
    "plt.show()"
   ]
  },
  {
   "cell_type": "code",
   "execution_count": 33,
   "metadata": {},
   "outputs": [
    {
     "name": "stdout",
     "output_type": "stream",
     "text": [
      "Mean of 'Before': 133.91\n",
      "5% Confidence Interval of 'Before': (132.60, 135.22)\n",
      "Mean of 'After': 128.36\n",
      "5% Confidence Interval of 'After': (126.99, 129.73)\n"
     ]
    }
   ],
   "source": [
    "# Interpretation\n",
    "print(f\"Mean of 'Before': {mean_before:.2f}\")\n",
    "print(f\"5% Confidence Interval of 'Before': ({confidence_interval_before[0]:.2f}, {confidence_interval_before[1]:.2f})\")\n",
    "print(f\"Mean of 'After': {mean_after:.2f}\")\n",
    "print(f\"5% Confidence Interval of 'After': ({confidence_interval_after[0]:.2f}, {confidence_interval_after[1]:.2f})\")\n"
   ]
  },
  {
   "cell_type": "markdown",
   "metadata": {},
   "source": [
    "\n",
    "###  Calculate Mean Absolute Deviation (MAD) and Standard Deviation"
   ]
  },
  {
   "cell_type": "code",
   "execution_count": 34,
   "metadata": {},
   "outputs": [
    {
     "name": "stdout",
     "output_type": "stream",
     "text": [
      "Mean Absolute Deviation (MAD) of 'Before': 5.71\n",
      "Standard Deviation of 'Before': 6.57\n",
      "Mean Absolute Deviation (MAD) of 'After': 5.90\n",
      "Standard Deviation of 'After': 6.85\n"
     ]
    }
   ],
   "source": [
    "\n",
    "mad_before = np.mean(np.abs(df['Before'] - mean_before))  # MAD of 'Before'\n",
    "mad_after = np.mean(np.abs(df['After'] - mean_after))  # MAD of 'After'\n",
    "std_dev_before = np.std(df['Before'])  # Standard deviation of 'Before'\n",
    "std_dev_after = np.std(df['After'])  # Standard deviation of 'After'\n",
    "\n",
    "# Interpretation\n",
    "print(f\"Mean Absolute Deviation (MAD) of 'Before': {mad_before:.2f}\")\n",
    "print(f\"Standard Deviation of 'Before': {std_dev_before:.2f}\")\n",
    "print(f\"Mean Absolute Deviation (MAD) of 'After': {mad_after:.2f}\")\n",
    "print(f\"Standard Deviation of 'After': {std_dev_after:.2f}\")\n"
   ]
  },
  {
   "cell_type": "markdown",
   "metadata": {},
   "source": [
    "### Calculate correlation coefficient and significance"
   ]
  },
  {
   "cell_type": "code",
   "execution_count": 35,
   "metadata": {},
   "outputs": [
    {
     "name": "stdout",
     "output_type": "stream",
     "text": [
      "Correlation Coefficient: 0.98\n",
      "The correlation coefficient is significant at the 1% level of significance.\n"
     ]
    }
   ],
   "source": [
    "\n",
    "correlation_coef, p_value = stats.pearsonr(df['Before'], df['After'])\n",
    "\n",
    "# Interpretation\n",
    "print(f\"Correlation Coefficient: {correlation_coef:.2f}\")\n",
    "if p_value < 0.01:\n",
    "    print(\"The correlation coefficient is significant at the 1% level of significance.\")\n",
    "else:\n",
    "    print(\"The correlation coefficient is not significant at the 1% level of significance.\")\n"
   ]
  }
 ],
 "metadata": {
  "kernelspec": {
   "display_name": "Python 3",
   "language": "python",
   "name": "python3"
  },
  "language_info": {
   "codemirror_mode": {
    "name": "ipython",
    "version": 3
   },
   "file_extension": ".py",
   "mimetype": "text/x-python",
   "name": "python",
   "nbconvert_exporter": "python",
   "pygments_lexer": "ipython3",
   "version": "3.9.0"
  },
  "orig_nbformat": 4
 },
 "nbformat": 4,
 "nbformat_minor": 2
}
