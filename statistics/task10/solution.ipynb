{
 "cells": [
  {
   "cell_type": "code",
   "execution_count": 1,
   "metadata": {},
   "outputs": [
    {
     "name": "stdout",
     "output_type": "stream",
     "text": [
      "Probability of exactly 20 defective bulbs: 0.051616192536641056\n"
     ]
    }
   ],
   "source": [
    "import scipy.stats as stats\n",
    "\n",
    "n = 500  # Number of trials (light bulbs)\n",
    "p = 0.05  # Probability of success (defective bulb)\n",
    "\n",
    "prob_20_defective = stats.binom.pmf(20, n, p)\n",
    "print(\"Probability of exactly 20 defective bulbs:\", prob_20_defective)"
   ]
  },
  {
   "cell_type": "code",
   "execution_count": 2,
   "metadata": {},
   "outputs": [
    {
     "name": "stdout",
     "output_type": "stream",
     "text": [
      "Probability of at least 10 defective bulbs: 0.9998316463654902\n"
     ]
    }
   ],
   "source": [
    "prob_at_least_10_defective = 1 - stats.binom.cdf(9, n, p)\n",
    "print(\"Probability of at least 10 defective bulbs:\", prob_at_least_10_defective)"
   ]
  },
  {
   "cell_type": "code",
   "execution_count": 3,
   "metadata": {},
   "outputs": [
    {
     "name": "stdout",
     "output_type": "stream",
     "text": [
      "Probability of at most 15 defective bulbs: 0.01985837716300661\n"
     ]
    }
   ],
   "source": [
    "prob_at_most_15_defective = stats.binom.cdf(15, n, p)\n",
    "print(\"Probability of at most 15 defective bulbs:\", prob_at_most_15_defective)"
   ]
  },
  {
   "cell_type": "code",
   "execution_count": 4,
   "metadata": {},
   "outputs": [
    {
     "name": "stdout",
     "output_type": "stream",
     "text": [
      "Expected number of defective bulbs: 25.0\n"
     ]
    }
   ],
   "source": [
    "expected_defective = n * p\n",
    "print(\"Expected number of defective bulbs:\", expected_defective)"
   ]
  },
  {
   "cell_type": "code",
   "execution_count": null,
   "metadata": {},
   "outputs": [],
   "source": []
  }
 ],
 "metadata": {
  "kernelspec": {
   "display_name": "Python 3",
   "language": "python",
   "name": "python3"
  },
  "language_info": {
   "codemirror_mode": {
    "name": "ipython",
    "version": 3
   },
   "file_extension": ".py",
   "mimetype": "text/x-python",
   "name": "python",
   "nbconvert_exporter": "python",
   "pygments_lexer": "ipython3",
   "version": "3.9.0"
  },
  "orig_nbformat": 4
 },
 "nbformat": 4,
 "nbformat_minor": 2
}
