{
 "cells": [
  {
   "cell_type": "code",
   "execution_count": 1,
   "metadata": {},
   "outputs": [
    {
     "name": "stdout",
     "output_type": "stream",
     "text": [
      "The change in blood pressure does not follow a normal distribution.\n"
     ]
    }
   ],
   "source": [
    "import pandas as pd\n",
    "import scipy.stats as stats\n",
    "\n",
    "# Read the data from the provided file\n",
    "\n",
    "data = pd.read_csv('../Blood_Pressure.csv')\n",
    "\n",
    "# Get the blood pressure change data\n",
    "blood_pressure_change = data['After'] - data['Before']\n",
    "\n",
    "# Perform Shapiro-Wilk test\n",
    "_, p_value = stats.shapiro(blood_pressure_change)\n",
    "\n",
    "# Check the significance of the p-value\n",
    "alpha = 0.05  # Significance level\n",
    "if p_value > alpha:\n",
    "    print(\"The change in blood pressure follows a normal distribution.\")\n",
    "else:\n",
    "    print(\"The change in blood pressure does not follow a normal distribution.\")\n"
   ]
  }
 ],
 "metadata": {
  "kernelspec": {
   "display_name": "Python 3",
   "language": "python",
   "name": "python3"
  },
  "language_info": {
   "codemirror_mode": {
    "name": "ipython",
    "version": 3
   },
   "file_extension": ".py",
   "mimetype": "text/x-python",
   "name": "python",
   "nbconvert_exporter": "python",
   "pygments_lexer": "ipython3",
   "version": "3.9.0"
  },
  "orig_nbformat": 4
 },
 "nbformat": 4,
 "nbformat_minor": 2
}
