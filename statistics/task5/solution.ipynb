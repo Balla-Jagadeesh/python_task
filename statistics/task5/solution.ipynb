{
 "cells": [
  {
   "cell_type": "code",
   "execution_count": 1,
   "metadata": {},
   "outputs": [
    {
     "name": "stdout",
     "output_type": "stream",
     "text": [
      "Probability that a randomly selected late taxi belongs to Company A: 0.6666666666666669\n"
     ]
    }
   ],
   "source": [
    "P_A = 0.8  # Probability of selecting a taxi from Company A\n",
    "P_B = 0.2  # Probability of selecting a taxi from Company B\n",
    "P_L_A = 1 - 0.95  # Probability that a taxi from Company A is late\n",
    "P_L_B = 1 - 0.90  # Probability that a taxi from Company B is late\n",
    "\n",
    "P_A_L = (P_L_A * P_A) / (P_L_A * P_A + P_L_B * P_B)\n",
    "\n",
    "print(\"Probability that a randomly selected late taxi belongs to Company A:\", P_A_L)"
   ]
  }
 ],
 "metadata": {
  "kernelspec": {
   "display_name": "Python 3",
   "language": "python",
   "name": "python3"
  },
  "language_info": {
   "codemirror_mode": {
    "name": "ipython",
    "version": 3
   },
   "file_extension": ".py",
   "mimetype": "text/x-python",
   "name": "python",
   "nbconvert_exporter": "python",
   "pygments_lexer": "ipython3",
   "version": "3.9.0"
  },
  "orig_nbformat": 4
 },
 "nbformat": 4,
 "nbformat_minor": 2
}
