{
 "cells": [
  {
   "cell_type": "code",
   "execution_count": 11,
   "metadata": {},
   "outputs": [
    {
     "name": "stdout",
     "output_type": "stream",
     "text": [
      "Variance of Y (Var(Y)): 8.588235294117647\n"
     ]
    }
   ],
   "source": [
    "# Given coefficients from the regression of Y on X\n",
    "beta_YX = 2\n",
    "alpha_YX = 5\n",
    "\n",
    "# Given variance of X\n",
    "var_X = 4\n",
    "\n",
    "# Replace Y_observed and Y_predicted with your actual data\n",
    "Y_observed = [5, 6, 7, 8, 9]  # Replace this with the actual observed Y values\n",
    "Y_predicted = [alpha_YX + beta_YX * x for x in Y_observed]\n",
    "\n",
    "# Calculate the residuals (differences between observed Y and predicted Y)\n",
    "residuals_YX = [y_obs - y_pred for y_obs, y_pred in zip(Y_observed, Y_predicted)]\n",
    "\n",
    "# Calculate the variance of the residuals (Var(εYX))\n",
    "var_residuals_YX = sum((residual ** 2 for residual in residuals_YX)) / len(residuals_YX)\n",
    "\n",
    "# Calculate the variance of Y (Var(Y)) using the formula\n",
    "var_Y = var_residuals_YX / (1 + var_X * (beta_YX ** 2))\n",
    "\n",
    "print(\"Variance of Y (Var(Y)):\", var_Y)\n"
   ]
  },
  {
   "cell_type": "code",
   "execution_count": 20,
   "metadata": {},
   "outputs": [
    {
     "name": "stdout",
     "output_type": "stream",
     "text": [
      "Coefficient of Determination (R-squared): 76.0\n"
     ]
    }
   ],
   "source": [
    "# Replace Y_observed and Y_predicted with your actual data\n",
    "Y_observed = [5, 6, 7, 8, 9]  # Replace this with the actual observed Y values\n",
    "Y_predicted = [alpha_YX + beta_YX * x for x in Y_observed]  # Use the regression equation from the previous code\n",
    "\n",
    "# Calculate the mean of observed Y\n",
    "mean_Y = sum(Y_observed) / len(Y_observed)\n",
    "\n",
    "# Calculate the Sum of Squares Regression (SSR)\n",
    "ssr = sum((y_pred - mean_Y) ** 2 for y_pred in Y_predicted)\n",
    "\n",
    "# Calculate the Sum of Squares Total (SST)\n",
    "sst = sum((y_obs - mean_Y) ** 2 for y_obs in Y_observed)\n",
    "\n",
    "# Calculate R-squared\n",
    "r_squared = ssr / sst\n",
    "\n",
    "print(\"Coefficient of Determination (R-squared):\", r_squared)\n"
   ]
  },
  {
   "cell_type": "code",
   "execution_count": 21,
   "metadata": {},
   "outputs": [
    {
     "name": "stdout",
     "output_type": "stream",
     "text": [
      "Standard Error of Estimate (SE) for X on Y: 20.73644135332772\n",
      "Standard Error of Estimate (SE) for Y on X: 2.140872096444188\n"
     ]
    }
   ],
   "source": [
    "import math\n",
    "\n",
    "# Replace X_observed, Y_observed, X_predicted_YX, and Y_predicted_XY with your actual data\n",
    "X_observed = [1, 2, 3, 4, 5]  # Replace this with the actual observed X values\n",
    "Y_observed = [5, 6, 7, 8, 9]  # Replace this with the actual observed Y values\n",
    "\n",
    "# Coefficients for the regression of Y on X\n",
    "beta_YX = 2\n",
    "alpha_YX = 5\n",
    "\n",
    "# Coefficients for the regression of X on Y\n",
    "beta_XY = 1/2\n",
    "alpha_XY = 4\n",
    "\n",
    "# Calculate the predicted X values from the regression of X on Y\n",
    "X_predicted_YX = [alpha_YX + beta_YX * y for y in Y_observed]\n",
    "\n",
    "# Calculate the predicted Y values from the regression of Y on X\n",
    "Y_predicted_XY = [alpha_XY + beta_XY * x for x in X_observed]\n",
    "\n",
    "# Calculate the Sum of Squared Errors (SSE) for X on Y\n",
    "sse_XY = sum((x_obs - x_pred) ** 2 for x_obs, x_pred in zip(X_observed, X_predicted_YX))\n",
    "\n",
    "# Calculate the Sum of Squared Errors (SSE) for Y on X\n",
    "sse_YX = sum((y_obs - y_pred) ** 2 for y_obs, y_pred in zip(Y_observed, Y_predicted_XY))\n",
    "\n",
    "# Calculate the number of data points (n)\n",
    "n = len(X_observed)  # or len(Y_observed)\n",
    "\n",
    "# Calculate the standard error of estimate (SE) for X on Y\n",
    "se_XY = math.sqrt(sse_XY / (n - 2))\n",
    "\n",
    "# Calculate the standard error of estimate (SE) for Y on X\n",
    "se_YX = math.sqrt(sse_YX / (n - 2))\n",
    "\n",
    "print(\"Standard Error of Estimate (SE) for X on Y:\", se_XY)\n",
    "print(\"Standard Error of Estimate (SE) for Y on X:\", se_YX)\n"
   ]
  }
 ],
 "metadata": {
  "kernelspec": {
   "display_name": "Python 3",
   "language": "python",
   "name": "python3"
  },
  "language_info": {
   "codemirror_mode": {
    "name": "ipython",
    "version": 3
   },
   "file_extension": ".py",
   "mimetype": "text/x-python",
   "name": "python",
   "nbconvert_exporter": "python",
   "pygments_lexer": "ipython3",
   "version": "3.9.0"
  },
  "orig_nbformat": 4
 },
 "nbformat": 4,
 "nbformat_minor": 2
}
