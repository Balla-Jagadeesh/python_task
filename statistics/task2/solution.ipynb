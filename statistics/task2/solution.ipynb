{
 "cells": [
  {
   "cell_type": "markdown",
   "metadata": {},
   "source": [
    "Q-2. Consider a dataset containing the heights (in centimeters) of 1000 individuals. The\n",
    "mean height is 170 cm with a standard deviation of 10 cm. The dataset is approximately\n",
    "normally distributed, and its skewness is approximately zero. Based on this information,\n",
    "answer the following questions:\n",
    "a. What percentage of individuals in the dataset have heights between 160 cm\n",
    "and 180 cm?\n",
    "b. If we randomly select 100 individuals from the dataset, what is the probability\n",
    "that their average height is greater than 175 cm?\n",
    "c. Assuming the dataset follows a normal distribution, what is the z-score\n",
    "corresponding to a height of 185 cm?\n",
    "d. We know that 5% of the dataset has heights below a certain value. What is\n",
    "the approximate height corresponding to this threshold?\n",
    "e. Calculate the coefficient of variation (CV) for the dataset.\n",
    "f. Calculate the skewness of the dataset and interpret the result."
   ]
  },
  {
   "cell_type": "code",
   "execution_count": 1,
   "metadata": {},
   "outputs": [
    {
     "name": "stdout",
     "output_type": "stream",
     "text": [
      "Percentage of individuals with heights between 160 cm and 180 cm: 68.27%\n",
      "Probability that the average height of 100 individuals is greater than 175 cm: 0.0000\n",
      "Z-score corresponding to a height of 185 cm: 1.50\n",
      "Approximate height corresponding to the 5th percentile threshold: 153.55 cm\n",
      "Coefficient of Variation (CV) for the dataset: 5.88%\n",
      "Skewness of the dataset: 0\n"
     ]
    }
   ],
   "source": [
    "import scipy.stats as stats\n",
    "\n",
    "# Mean and standard deviation\n",
    "mean_height = 170\n",
    "std_dev_height = 10\n",
    "\n",
    "# a. Percentage of individuals with heights between 160 cm and 180 cm\n",
    "z1 = (160 - mean_height) / std_dev_height\n",
    "z2 = (180 - mean_height) / std_dev_height\n",
    "percentage_between = stats.norm.cdf(z2) - stats.norm.cdf(z1)\n",
    "percentage_between *= 100\n",
    "\n",
    "print(f\"Percentage of individuals with heights between 160 cm and 180 cm: {percentage_between:.2f}%\")\n",
    "\n",
    "# b. Probability that the average height of 100 individuals is greater than 175 cm\n",
    "sample_size = 100\n",
    "standard_error = std_dev_height / (sample_size ** 0.5)\n",
    "z_score = (175 - mean_height) / standard_error\n",
    "probability_greater = 1 - stats.norm.cdf(z_score)\n",
    "\n",
    "print(f\"Probability that the average height of 100 individuals is greater than 175 cm: {probability_greater:.4f}\")\n",
    "\n",
    "# c. Z-score corresponding to a height of 185 cm\n",
    "height = 185\n",
    "z_score_185 = (height - mean_height) / std_dev_height\n",
    "\n",
    "print(f\"Z-score corresponding to a height of 185 cm: {z_score_185:.2f}\")\n",
    "\n",
    "# d. Height corresponding to the threshold where 5% of the dataset has heights below it\n",
    "threshold = stats.norm.ppf(0.05, loc=mean_height, scale=std_dev_height)\n",
    "\n",
    "print(f\"Approximate height corresponding to the 5th percentile threshold: {threshold:.2f} cm\")\n",
    "\n",
    "# e. Coefficient of Variation (CV)\n",
    "cv = (std_dev_height / mean_height) * 100\n",
    "\n",
    "print(f\"Coefficient of Variation (CV) for the dataset: {cv:.2f}%\")\n",
    "\n",
    "# f. Skewness of the dataset\n",
    "skewness = 0  # Assuming skewness is approximately zero\n",
    "\n",
    "print(f\"Skewness of the dataset: {skewness}\")"
   ]
  }
 ],
 "metadata": {
  "kernelspec": {
   "display_name": "Python 3",
   "language": "python",
   "name": "python3"
  },
  "language_info": {
   "codemirror_mode": {
    "name": "ipython",
    "version": 3
   },
   "file_extension": ".py",
   "mimetype": "text/x-python",
   "name": "python",
   "nbconvert_exporter": "python",
   "pygments_lexer": "ipython3",
   "version": "3.9.0"
  },
  "orig_nbformat": 4
 },
 "nbformat": 4,
 "nbformat_minor": 2
}
