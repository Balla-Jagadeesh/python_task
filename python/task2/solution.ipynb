{
 "cells": [
  {
   "cell_type": "code",
   "execution_count": 2,
   "metadata": {},
   "outputs": [],
   "source": [
    "def valid_string(s):\n",
    "    char_frq= {}\n",
    "    \n",
    "    # Count the frequency of each character\n",
    "    for char in s:\n",
    "        char_frq[char] = char_frq.get(char, 0) + 1\n",
    "\n",
    "    # Check if all characters have the same frequency\n",
    "    frequency = list(char_frq.values())\n",
    "    if len(set(frequency)) == 1:\n",
    "        return \"YES\"\n",
    "\n",
    "    # Check if removing one character makes the frequencies equal\n",
    "    for char in char_frq:\n",
    "        char_frq[char] -= 1\n",
    "        reduced = list(char_frq.values())\n",
    "        if len(set(reduced)) == 1:\n",
    "            return \"YES\"\n",
    "        char_frq[char] += 1\n",
    "\n",
    "    return \"NO\"\n"
   ]
  },
  {
   "cell_type": "code",
   "execution_count": 7,
   "metadata": {},
   "outputs": [
    {
     "name": "stdout",
     "output_type": "stream",
     "text": [
      "YES\n",
      "NO\n"
     ]
    }
   ],
   "source": [
    "\n",
    "# Example usage\n",
    "s1 = \"abcc\"\n",
    "result1 = is_valid_string(s1)\n",
    "print(result1)  # Output: YES\n",
    "\n",
    "s2 = \"abccc\"\n",
    "result2 = is_valid_string(s2)\n",
    "print(result2)  # Output: NO\n",
    "\n"
   ]
  }
 ],
 "metadata": {
  "kernelspec": {
   "display_name": "Python 3",
   "language": "python",
   "name": "python3"
  },
  "language_info": {
   "codemirror_mode": {
    "name": "ipython",
    "version": 3
   },
   "file_extension": ".py",
   "mimetype": "text/x-python",
   "name": "python",
   "nbconvert_exporter": "python",
   "pygments_lexer": "ipython3",
   "version": "3.9.0"
  },
  "orig_nbformat": 4
 },
 "nbformat": 4,
 "nbformat_minor": 2
}
