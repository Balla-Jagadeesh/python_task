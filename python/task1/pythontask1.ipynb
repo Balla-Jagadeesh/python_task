{
 "cells": [
  {
   "cell_type": "code",
   "execution_count": 2,
   "metadata": {},
   "outputs": [],
   "source": [
    "def frequency_word(input_string):\n",
    "    try:\n",
    "        # Convert the input string to lowercase and remove any special characters\n",
    "        input_string = input_string.lower().replace('.', '')\n",
    "\n",
    "        # Split the string into words\n",
    "        words = input_string.split()\n",
    "\n",
    "        # Count the frequency of each word\n",
    "        frequency = {}\n",
    "        for word in words:\n",
    "            if word in frequency:\n",
    "                frequency[word] += 1\n",
    "            else:\n",
    "                frequency[word] = 1\n",
    "                            \n",
    "                \n",
    "        # Find the highest frequency\n",
    "        highest_frequency_word_length=\"\"\n",
    "        highest_frequency = 0\n",
    "\n",
    "        # Find the length of the highest-frequency word\n",
    "        for word in frequency:\n",
    "            if frequency[word] > highest_frequency:\n",
    "                highest_frequency=frequency[word]\n",
    "                highest_frequency_word_length=len(word)\n",
    "\n",
    "        return highest_frequency_word_length\n",
    "    except Exception as e:\n",
    "        raise Exception(\"An error occurred during word frequency analysis: \" + str(e))\n"
   ]
  },
  {
   "cell_type": "code",
   "execution_count": 3,
   "metadata": {},
   "outputs": [
    {
     "name": "stdout",
     "output_type": "stream",
     "text": [
      "The length of the highest-frequency word: 7\n"
     ]
    }
   ],
   "source": [
    "\n",
    "\n",
    "# Test the function\n",
    "try:\n",
    "    input_str = \"this this is a highest highest highest highest frequency frequency frequency word \"\n",
    "    result = frequency_word(input_str)\n",
    "    print(f\"The length of the highest-frequency word: {result}\")\n",
    "except Exception as e:\n",
    "    print(\"Error:\", str(e))"
   ]
  }
 ],
 "metadata": {
  "kernelspec": {
   "display_name": "Python 3",
   "language": "python",
   "name": "python3"
  },
  "language_info": {
   "codemirror_mode": {
    "name": "ipython",
    "version": 3
   },
   "file_extension": ".py",
   "mimetype": "text/x-python",
   "name": "python",
   "nbconvert_exporter": "python",
   "pygments_lexer": "ipython3",
   "version": "3.9.0"
  },
  "orig_nbformat": 4
 },
 "nbformat": 4,
 "nbformat_minor": 2
}
